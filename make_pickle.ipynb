{
 "cells": [
  {
   "cell_type": "code",
   "execution_count": 1,
   "id": "086a0768",
   "metadata": {},
   "outputs": [],
   "source": [
    "import pickle"
   ]
  },
  {
   "cell_type": "code",
   "execution_count": 5,
   "id": "ce5208f0",
   "metadata": {},
   "outputs": [],
   "source": [
    "favorite = {'lion' : 'yellow', 'tiger' : 'red'}"
   ]
  },
  {
   "cell_type": "code",
   "execution_count": 8,
   "id": "f7eeee05",
   "metadata": {},
   "outputs": [],
   "source": [
    "# as machine learning, favorite --> model variable을 쓰세요\n",
    "pickle.dump(favorite, open('./saves/favorite_save.pkl', 'wb')) #wb는 관리자권한?"
   ]
  },
  {
   "cell_type": "code",
   "execution_count": null,
   "id": "24e36ceb",
   "metadata": {},
   "outputs": [],
   "source": []
  }
 ],
 "metadata": {
  "kernelspec": {
   "display_name": "Python 3",
   "language": "python",
   "name": "python3"
  },
  "language_info": {
   "codemirror_mode": {
    "name": "ipython",
    "version": 3
   },
   "file_extension": ".py",
   "mimetype": "text/x-python",
   "name": "python",
   "nbconvert_exporter": "python",
   "pygments_lexer": "ipython3",
   "version": "3.8.10"
  }
 },
 "nbformat": 4,
 "nbformat_minor": 5
}
