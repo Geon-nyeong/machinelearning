{
 "cells": [
  {
   "cell_type": "code",
   "execution_count": 1,
   "id": "f75017d3",
   "metadata": {},
   "outputs": [],
   "source": [
    "import pandas as pd"
   ]
  },
  {
   "cell_type": "code",
   "execution_count": 3,
   "id": "cebe0fac",
   "metadata": {},
   "outputs": [],
   "source": [
    "%load_ext autoreload\n",
    "%autoreload 2"
   ]
  },
  {
   "cell_type": "code",
   "execution_count": 8,
   "id": "ea594cdf",
   "metadata": {},
   "outputs": [
    {
     "name": "stdout",
     "output_type": "stream",
     "text": [
      " C 드라이브의 볼륨에는 이름이 없습니다.\n",
      " 볼륨 일련 번호: 4AC3-7D99\n",
      "\n",
      " C:\\Develops\\machinelearning\\saves 디렉터리\n",
      "\n",
      "2021-07-01  오후 01:32           233,472 advertising.xls\n",
      "               1개 파일             233,472 바이트\n",
      "               0개 디렉터리  91,940,868,096 바이트 남음\n"
     ]
    }
   ],
   "source": [
    "!dir .\\saves\\advertising.xls"
   ]
  },
  {
   "cell_type": "code",
   "execution_count": 19,
   "id": "aa06005c",
   "metadata": {
    "collapsed": true
   },
   "outputs": [
    {
     "data": {
      "text/html": [
       "<div>\n",
       "<style scoped>\n",
       "    .dataframe tbody tr th:only-of-type {\n",
       "        vertical-align: middle;\n",
       "    }\n",
       "\n",
       "    .dataframe tbody tr th {\n",
       "        vertical-align: top;\n",
       "    }\n",
       "\n",
       "    .dataframe thead th {\n",
       "        text-align: right;\n",
       "    }\n",
       "</style>\n",
       "<table border=\"1\" class=\"dataframe\">\n",
       "  <thead>\n",
       "    <tr style=\"text-align: right;\">\n",
       "      <th></th>\n",
       "      <th>Daily Time Spent on Site</th>\n",
       "      <th>Age</th>\n",
       "      <th>Area Income</th>\n",
       "      <th>Daily Internet Usage</th>\n",
       "      <th>Ad Topic Line</th>\n",
       "      <th>City</th>\n",
       "      <th>Male</th>\n",
       "      <th>Country</th>\n",
       "      <th>Timestamp</th>\n",
       "      <th>Clicked on Ad</th>\n",
       "    </tr>\n",
       "  </thead>\n",
       "  <tbody>\n",
       "    <tr>\n",
       "      <th>0</th>\n",
       "      <td>68.95</td>\n",
       "      <td>35</td>\n",
       "      <td>61833.90</td>\n",
       "      <td>256.09</td>\n",
       "      <td>Cloned 5thgeneration orchestration</td>\n",
       "      <td>Wrightburgh</td>\n",
       "      <td>0</td>\n",
       "      <td>Tunisia</td>\n",
       "      <td>2016-03-27 00:53:11</td>\n",
       "      <td>0</td>\n",
       "    </tr>\n",
       "    <tr>\n",
       "      <th>1</th>\n",
       "      <td>80.23</td>\n",
       "      <td>31</td>\n",
       "      <td>68441.85</td>\n",
       "      <td>193.77</td>\n",
       "      <td>Monitored national standardization</td>\n",
       "      <td>West Jodi</td>\n",
       "      <td>1</td>\n",
       "      <td>Nauru</td>\n",
       "      <td>2016-04-04 01:39:02</td>\n",
       "      <td>0</td>\n",
       "    </tr>\n",
       "    <tr>\n",
       "      <th>2</th>\n",
       "      <td>69.47</td>\n",
       "      <td>26</td>\n",
       "      <td>59785.94</td>\n",
       "      <td>236.50</td>\n",
       "      <td>Organic bottom-line service-desk</td>\n",
       "      <td>Davidton</td>\n",
       "      <td>0</td>\n",
       "      <td>San Marino</td>\n",
       "      <td>2016-03-13 20:35:42</td>\n",
       "      <td>0</td>\n",
       "    </tr>\n",
       "    <tr>\n",
       "      <th>3</th>\n",
       "      <td>74.15</td>\n",
       "      <td>29</td>\n",
       "      <td>54806.18</td>\n",
       "      <td>245.89</td>\n",
       "      <td>Triple-buffered reciprocal time-frame</td>\n",
       "      <td>West Terrifurt</td>\n",
       "      <td>1</td>\n",
       "      <td>Italy</td>\n",
       "      <td>2016-01-10 02:31:19</td>\n",
       "      <td>0</td>\n",
       "    </tr>\n",
       "    <tr>\n",
       "      <th>4</th>\n",
       "      <td>68.37</td>\n",
       "      <td>35</td>\n",
       "      <td>73889.99</td>\n",
       "      <td>225.58</td>\n",
       "      <td>Robust logistical utilization</td>\n",
       "      <td>South Manuel</td>\n",
       "      <td>0</td>\n",
       "      <td>Iceland</td>\n",
       "      <td>2016-06-03 03:36:18</td>\n",
       "      <td>0</td>\n",
       "    </tr>\n",
       "    <tr>\n",
       "      <th>...</th>\n",
       "      <td>...</td>\n",
       "      <td>...</td>\n",
       "      <td>...</td>\n",
       "      <td>...</td>\n",
       "      <td>...</td>\n",
       "      <td>...</td>\n",
       "      <td>...</td>\n",
       "      <td>...</td>\n",
       "      <td>...</td>\n",
       "      <td>...</td>\n",
       "    </tr>\n",
       "    <tr>\n",
       "      <th>995</th>\n",
       "      <td>72.97</td>\n",
       "      <td>30</td>\n",
       "      <td>71384.57</td>\n",
       "      <td>208.58</td>\n",
       "      <td>Fundamental modular algorithm</td>\n",
       "      <td>Duffystad</td>\n",
       "      <td>1</td>\n",
       "      <td>Lebanon</td>\n",
       "      <td>2016-02-11 21:49:00</td>\n",
       "      <td>1</td>\n",
       "    </tr>\n",
       "    <tr>\n",
       "      <th>996</th>\n",
       "      <td>51.30</td>\n",
       "      <td>45</td>\n",
       "      <td>67782.17</td>\n",
       "      <td>134.42</td>\n",
       "      <td>Grass-roots cohesive monitoring</td>\n",
       "      <td>New Darlene</td>\n",
       "      <td>1</td>\n",
       "      <td>Bosnia and Herzegovina</td>\n",
       "      <td>2016-04-22 02:07:01</td>\n",
       "      <td>1</td>\n",
       "    </tr>\n",
       "    <tr>\n",
       "      <th>997</th>\n",
       "      <td>51.63</td>\n",
       "      <td>51</td>\n",
       "      <td>42415.72</td>\n",
       "      <td>120.37</td>\n",
       "      <td>Expanded intangible solution</td>\n",
       "      <td>South Jessica</td>\n",
       "      <td>1</td>\n",
       "      <td>Mongolia</td>\n",
       "      <td>2016-02-01 17:24:57</td>\n",
       "      <td>1</td>\n",
       "    </tr>\n",
       "    <tr>\n",
       "      <th>998</th>\n",
       "      <td>55.55</td>\n",
       "      <td>19</td>\n",
       "      <td>41920.79</td>\n",
       "      <td>187.95</td>\n",
       "      <td>Proactive bandwidth-monitored policy</td>\n",
       "      <td>West Steven</td>\n",
       "      <td>0</td>\n",
       "      <td>Guatemala</td>\n",
       "      <td>2016-03-24 02:35:54</td>\n",
       "      <td>0</td>\n",
       "    </tr>\n",
       "    <tr>\n",
       "      <th>999</th>\n",
       "      <td>45.01</td>\n",
       "      <td>26</td>\n",
       "      <td>29875.80</td>\n",
       "      <td>178.35</td>\n",
       "      <td>Virtual 5thgeneration emulation</td>\n",
       "      <td>Ronniemouth</td>\n",
       "      <td>0</td>\n",
       "      <td>Brazil</td>\n",
       "      <td>2016-06-03 21:43:21</td>\n",
       "      <td>1</td>\n",
       "    </tr>\n",
       "  </tbody>\n",
       "</table>\n",
       "<p>1000 rows × 10 columns</p>\n",
       "</div>"
      ],
      "text/plain": [
       "     Daily Time Spent on Site  Age  Area Income  Daily Internet Usage  \\\n",
       "0                       68.95   35     61833.90                256.09   \n",
       "1                       80.23   31     68441.85                193.77   \n",
       "2                       69.47   26     59785.94                236.50   \n",
       "3                       74.15   29     54806.18                245.89   \n",
       "4                       68.37   35     73889.99                225.58   \n",
       "..                        ...  ...          ...                   ...   \n",
       "995                     72.97   30     71384.57                208.58   \n",
       "996                     51.30   45     67782.17                134.42   \n",
       "997                     51.63   51     42415.72                120.37   \n",
       "998                     55.55   19     41920.79                187.95   \n",
       "999                     45.01   26     29875.80                178.35   \n",
       "\n",
       "                             Ad Topic Line            City  Male  \\\n",
       "0       Cloned 5thgeneration orchestration     Wrightburgh     0   \n",
       "1       Monitored national standardization       West Jodi     1   \n",
       "2         Organic bottom-line service-desk        Davidton     0   \n",
       "3    Triple-buffered reciprocal time-frame  West Terrifurt     1   \n",
       "4            Robust logistical utilization    South Manuel     0   \n",
       "..                                     ...             ...   ...   \n",
       "995          Fundamental modular algorithm       Duffystad     1   \n",
       "996        Grass-roots cohesive monitoring     New Darlene     1   \n",
       "997           Expanded intangible solution   South Jessica     1   \n",
       "998   Proactive bandwidth-monitored policy     West Steven     0   \n",
       "999        Virtual 5thgeneration emulation     Ronniemouth     0   \n",
       "\n",
       "                    Country           Timestamp  Clicked on Ad  \n",
       "0                   Tunisia 2016-03-27 00:53:11              0  \n",
       "1                     Nauru 2016-04-04 01:39:02              0  \n",
       "2                San Marino 2016-03-13 20:35:42              0  \n",
       "3                     Italy 2016-01-10 02:31:19              0  \n",
       "4                   Iceland 2016-06-03 03:36:18              0  \n",
       "..                      ...                 ...            ...  \n",
       "995                 Lebanon 2016-02-11 21:49:00              1  \n",
       "996  Bosnia and Herzegovina 2016-04-22 02:07:01              1  \n",
       "997                Mongolia 2016-02-01 17:24:57              1  \n",
       "998               Guatemala 2016-03-24 02:35:54              0  \n",
       "999                  Brazil 2016-06-03 21:43:21              1  \n",
       "\n",
       "[1000 rows x 10 columns]"
      ]
     },
     "execution_count": 19,
     "metadata": {},
     "output_type": "execute_result"
    }
   ],
   "source": [
    "pd_data = pd.read_excel('./saves/advertising.xls')\n",
    "pd_data"
   ]
  },
  {
   "cell_type": "code",
   "execution_count": 20,
   "id": "e51cdcd0",
   "metadata": {},
   "outputs": [
    {
     "name": "stdout",
     "output_type": "stream",
     "text": [
      "<class 'pandas.core.frame.DataFrame'>\n",
      "RangeIndex: 1000 entries, 0 to 999\n",
      "Data columns (total 10 columns):\n",
      " #   Column                    Non-Null Count  Dtype         \n",
      "---  ------                    --------------  -----         \n",
      " 0   Daily Time Spent on Site  1000 non-null   float64       \n",
      " 1   Age                       1000 non-null   int64         \n",
      " 2   Area Income               1000 non-null   float64       \n",
      " 3   Daily Internet Usage      1000 non-null   float64       \n",
      " 4   Ad Topic Line             1000 non-null   object        \n",
      " 5   City                      1000 non-null   object        \n",
      " 6   Male                      1000 non-null   int64         \n",
      " 7   Country                   1000 non-null   object        \n",
      " 8   Timestamp                 1000 non-null   datetime64[ns]\n",
      " 9   Clicked on Ad             1000 non-null   int64         \n",
      "dtypes: datetime64[ns](1), float64(3), int64(3), object(3)\n",
      "memory usage: 78.2+ KB\n"
     ]
    }
   ],
   "source": [
    " pd_data.info() #열에 대한 정보들 "
   ]
  },
  {
   "cell_type": "code",
   "execution_count": 21,
   "id": "7f9766c2",
   "metadata": {},
   "outputs": [
    {
     "data": {
      "text/plain": [
       "(1000, 10)"
      ]
     },
     "execution_count": 21,
     "metadata": {},
     "output_type": "execute_result"
    }
   ],
   "source": [
    "pd_data.shape #데이터들의 행과 열"
   ]
  },
  {
   "cell_type": "code",
   "execution_count": 28,
   "id": "3be048b3",
   "metadata": {},
   "outputs": [],
   "source": [
    "x1 = pd_data[['Daily Time Spent on Site']]\n",
    "x2 = pd_data[['Age']]\n",
    "x3 = pd_data[['Area Income']]\n",
    "x4 = pd_data[['Daily Internet Usage']]\n",
    "x5 = pd_data[['Male']]"
   ]
  },
  {
   "cell_type": "code",
   "execution_count": 29,
   "id": "2cb93c51",
   "metadata": {},
   "outputs": [],
   "source": [
    "y = pd_data[['Clicked on Ad']]"
   ]
  },
  {
   "cell_type": "code",
   "execution_count": 34,
   "id": "b03febfe",
   "metadata": {},
   "outputs": [
    {
     "data": {
      "text/plain": [
       "((1000, 1), (1000, 1), (1000, 1), (1000, 1), (1000, 1), (1000, 1))"
      ]
     },
     "execution_count": 34,
     "metadata": {},
     "output_type": "execute_result"
    }
   ],
   "source": [
    "x1.shape,x2.shape,x3.shape,x4.shape,x5.shape, y.shape #5개의 독립변인과 종속변인"
   ]
  },
  {
   "cell_type": "code",
   "execution_count": 32,
   "id": "eb86be10",
   "metadata": {
    "collapsed": true
   },
   "outputs": [
    {
     "data": {
      "text/html": [
       "<div>\n",
       "<style scoped>\n",
       "    .dataframe tbody tr th:only-of-type {\n",
       "        vertical-align: middle;\n",
       "    }\n",
       "\n",
       "    .dataframe tbody tr th {\n",
       "        vertical-align: top;\n",
       "    }\n",
       "\n",
       "    .dataframe thead th {\n",
       "        text-align: right;\n",
       "    }\n",
       "</style>\n",
       "<table border=\"1\" class=\"dataframe\">\n",
       "  <thead>\n",
       "    <tr style=\"text-align: right;\">\n",
       "      <th></th>\n",
       "      <th>Daily Time Spent on Site</th>\n",
       "      <th>Age</th>\n",
       "      <th>Area Income</th>\n",
       "      <th>Daily Internet Usage</th>\n",
       "      <th>Male</th>\n",
       "      <th>Clicked on Ad</th>\n",
       "    </tr>\n",
       "  </thead>\n",
       "  <tbody>\n",
       "    <tr>\n",
       "      <th>0</th>\n",
       "      <td>68.95</td>\n",
       "      <td>35</td>\n",
       "      <td>61833.90</td>\n",
       "      <td>256.09</td>\n",
       "      <td>0</td>\n",
       "      <td>0</td>\n",
       "    </tr>\n",
       "    <tr>\n",
       "      <th>1</th>\n",
       "      <td>80.23</td>\n",
       "      <td>31</td>\n",
       "      <td>68441.85</td>\n",
       "      <td>193.77</td>\n",
       "      <td>1</td>\n",
       "      <td>0</td>\n",
       "    </tr>\n",
       "    <tr>\n",
       "      <th>2</th>\n",
       "      <td>69.47</td>\n",
       "      <td>26</td>\n",
       "      <td>59785.94</td>\n",
       "      <td>236.50</td>\n",
       "      <td>0</td>\n",
       "      <td>0</td>\n",
       "    </tr>\n",
       "    <tr>\n",
       "      <th>3</th>\n",
       "      <td>74.15</td>\n",
       "      <td>29</td>\n",
       "      <td>54806.18</td>\n",
       "      <td>245.89</td>\n",
       "      <td>1</td>\n",
       "      <td>0</td>\n",
       "    </tr>\n",
       "    <tr>\n",
       "      <th>4</th>\n",
       "      <td>68.37</td>\n",
       "      <td>35</td>\n",
       "      <td>73889.99</td>\n",
       "      <td>225.58</td>\n",
       "      <td>0</td>\n",
       "      <td>0</td>\n",
       "    </tr>\n",
       "    <tr>\n",
       "      <th>...</th>\n",
       "      <td>...</td>\n",
       "      <td>...</td>\n",
       "      <td>...</td>\n",
       "      <td>...</td>\n",
       "      <td>...</td>\n",
       "      <td>...</td>\n",
       "    </tr>\n",
       "    <tr>\n",
       "      <th>995</th>\n",
       "      <td>72.97</td>\n",
       "      <td>30</td>\n",
       "      <td>71384.57</td>\n",
       "      <td>208.58</td>\n",
       "      <td>1</td>\n",
       "      <td>1</td>\n",
       "    </tr>\n",
       "    <tr>\n",
       "      <th>996</th>\n",
       "      <td>51.30</td>\n",
       "      <td>45</td>\n",
       "      <td>67782.17</td>\n",
       "      <td>134.42</td>\n",
       "      <td>1</td>\n",
       "      <td>1</td>\n",
       "    </tr>\n",
       "    <tr>\n",
       "      <th>997</th>\n",
       "      <td>51.63</td>\n",
       "      <td>51</td>\n",
       "      <td>42415.72</td>\n",
       "      <td>120.37</td>\n",
       "      <td>1</td>\n",
       "      <td>1</td>\n",
       "    </tr>\n",
       "    <tr>\n",
       "      <th>998</th>\n",
       "      <td>55.55</td>\n",
       "      <td>19</td>\n",
       "      <td>41920.79</td>\n",
       "      <td>187.95</td>\n",
       "      <td>0</td>\n",
       "      <td>0</td>\n",
       "    </tr>\n",
       "    <tr>\n",
       "      <th>999</th>\n",
       "      <td>45.01</td>\n",
       "      <td>26</td>\n",
       "      <td>29875.80</td>\n",
       "      <td>178.35</td>\n",
       "      <td>0</td>\n",
       "      <td>1</td>\n",
       "    </tr>\n",
       "  </tbody>\n",
       "</table>\n",
       "<p>1000 rows × 6 columns</p>\n",
       "</div>"
      ],
      "text/plain": [
       "     Daily Time Spent on Site  Age  Area Income  Daily Internet Usage  Male  \\\n",
       "0                       68.95   35     61833.90                256.09     0   \n",
       "1                       80.23   31     68441.85                193.77     1   \n",
       "2                       69.47   26     59785.94                236.50     0   \n",
       "3                       74.15   29     54806.18                245.89     1   \n",
       "4                       68.37   35     73889.99                225.58     0   \n",
       "..                        ...  ...          ...                   ...   ...   \n",
       "995                     72.97   30     71384.57                208.58     1   \n",
       "996                     51.30   45     67782.17                134.42     1   \n",
       "997                     51.63   51     42415.72                120.37     1   \n",
       "998                     55.55   19     41920.79                187.95     0   \n",
       "999                     45.01   26     29875.80                178.35     0   \n",
       "\n",
       "     Clicked on Ad  \n",
       "0                0  \n",
       "1                0  \n",
       "2                0  \n",
       "3                0  \n",
       "4                0  \n",
       "..             ...  \n",
       "995              1  \n",
       "996              1  \n",
       "997              1  \n",
       "998              0  \n",
       "999              1  \n",
       "\n",
       "[1000 rows x 6 columns]"
      ]
     },
     "execution_count": 32,
     "metadata": {},
     "output_type": "execute_result"
    }
   ],
   "source": [
    "pd_data[['Daily Time Spent on Site','Age','Area Income','Daily Internet Usage','Male','Clicked on Ad']]"
   ]
  },
  {
   "cell_type": "code",
   "execution_count": 35,
   "id": "977a7371",
   "metadata": {},
   "outputs": [],
   "source": [
    "import sklearn"
   ]
  },
  {
   "cell_type": "code",
   "execution_count": 36,
   "id": "6b822587",
   "metadata": {},
   "outputs": [],
   "source": [
    "from sklearn.model_selection import train_test_split"
   ]
  },
  {
   "cell_type": "code",
   "execution_count": 69,
   "id": "4ef12828",
   "metadata": {},
   "outputs": [],
   "source": [
    "x1_train, x1_test, y_train, y_test = train_test_split(x1,y)"
   ]
  },
  {
   "cell_type": "code",
   "execution_count": 70,
   "id": "5b41e75e",
   "metadata": {},
   "outputs": [],
   "source": [
    "from sklearn.linear_model import LinearRegression"
   ]
  },
  {
   "cell_type": "code",
   "execution_count": 71,
   "id": "4a68f998",
   "metadata": {},
   "outputs": [],
   "source": [
    "lr = LinearRegression()"
   ]
  },
  {
   "cell_type": "code",
   "execution_count": 72,
   "id": "5527899b",
   "metadata": {},
   "outputs": [
    {
     "data": {
      "text/plain": [
       "LinearRegression()"
      ]
     },
     "execution_count": 72,
     "metadata": {},
     "output_type": "execute_result"
    }
   ],
   "source": [
    "#fit\n",
    "lr.fit(x1_train,y_train)"
   ]
  },
  {
   "cell_type": "code",
   "execution_count": 73,
   "id": "3b702c98",
   "metadata": {},
   "outputs": [
    {
     "data": {
      "text/plain": [
       "(array([[-0.02324464]]), array([2.01032269]))"
      ]
     },
     "execution_count": 73,
     "metadata": {},
     "output_type": "execute_result"
    }
   ],
   "source": [
    "lr.coef_, lr.intercept_"
   ]
  },
  {
   "cell_type": "code",
   "execution_count": 74,
   "id": "2811627c",
   "metadata": {},
   "outputs": [
    {
     "data": {
      "text/plain": [
       "0.5595456516268928"
      ]
     },
     "execution_count": 74,
     "metadata": {},
     "output_type": "execute_result"
    }
   ],
   "source": [
    "lr.score(x1,y)"
   ]
  },
  {
   "cell_type": "code",
   "execution_count": 81,
   "id": "04978053",
   "metadata": {},
   "outputs": [
    {
     "data": {
      "text/plain": [
       "LinearRegression()"
      ]
     },
     "execution_count": 81,
     "metadata": {},
     "output_type": "execute_result"
    }
   ],
   "source": [
    "lr.fit(x2_train,y_train)"
   ]
  },
  {
   "cell_type": "code",
   "execution_count": 82,
   "id": "decc4b5f",
   "metadata": {},
   "outputs": [
    {
     "data": {
      "text/plain": [
       "(array([[-0.00087677]]), array([0.52755566]))"
      ]
     },
     "execution_count": 82,
     "metadata": {},
     "output_type": "execute_result"
    }
   ],
   "source": [
    "lr.coef_, lr.intercept_"
   ]
  },
  {
   "cell_type": "code",
   "execution_count": 83,
   "id": "d3aa87a6",
   "metadata": {},
   "outputs": [
    {
     "data": {
      "text/plain": [
       "-0.015469800957660373"
      ]
     },
     "execution_count": 83,
     "metadata": {},
     "output_type": "execute_result"
    }
   ],
   "source": [
    "lr.score(x2,y)"
   ]
  },
  {
   "cell_type": "code",
   "execution_count": 84,
   "id": "417a1627",
   "metadata": {},
   "outputs": [
    {
     "data": {
      "text/plain": [
       "LinearRegression()"
      ]
     },
     "execution_count": 84,
     "metadata": {},
     "output_type": "execute_result"
    }
   ],
   "source": [
    "lr.fit(x3_train,y_train)"
   ]
  },
  {
   "cell_type": "code",
   "execution_count": 85,
   "id": "e3f4c6b4",
   "metadata": {},
   "outputs": [
    {
     "data": {
      "text/plain": [
       "(array([[-4.68979058e-07]]), array([0.52164317]))"
      ]
     },
     "execution_count": 85,
     "metadata": {},
     "output_type": "execute_result"
    }
   ],
   "source": [
    "lr.coef_, lr.intercept_"
   ]
  },
  {
   "cell_type": "code",
   "execution_count": 86,
   "id": "15e193f3",
   "metadata": {},
   "outputs": [
    {
     "data": {
      "text/plain": [
       "0.011751754830148564"
      ]
     },
     "execution_count": 86,
     "metadata": {},
     "output_type": "execute_result"
    }
   ],
   "source": [
    "lr.score(x3,y)"
   ]
  },
  {
   "cell_type": "code",
   "execution_count": null,
   "id": "fe27c0aa",
   "metadata": {},
   "outputs": [],
   "source": []
  }
 ],
 "metadata": {
  "kernelspec": {
   "display_name": "Python 3",
   "language": "python",
   "name": "python3"
  },
  "language_info": {
   "codemirror_mode": {
    "name": "ipython",
    "version": 3
   },
   "file_extension": ".py",
   "mimetype": "text/x-python",
   "name": "python",
   "nbconvert_exporter": "python",
   "pygments_lexer": "ipython3",
   "version": "3.8.10"
  }
 },
 "nbformat": 4,
 "nbformat_minor": 5
}
